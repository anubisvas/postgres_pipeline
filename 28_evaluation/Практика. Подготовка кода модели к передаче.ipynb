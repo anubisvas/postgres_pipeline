{
 "cells": [
  {
   "cell_type": "markdown",
   "metadata": {
    "id": "cDjkYFnDODCG"
   },
   "source": [
    "## Подготовка модели к передаче"
   ]
  },
  {
   "cell_type": "markdown",
   "metadata": {
    "id": "6npkrsgiOSuA"
   },
   "source": [
    "В этом практическом задании два обязательных и одна дополнительная задача.\n",
    "<br>\n",
    "*Обязательные задачи* помогут проверить, что вы действительно усвоили материал. Если у вас всё получилось, можете переходить к следующей теме.\n",
    "<br>\n",
    "Удачи!"
   ]
  },
  {
   "cell_type": "markdown",
   "metadata": {
    "id": "I5kBJas7OWc3"
   },
   "source": [
    "Цели практического задания:\n",
    "\n",
    "1.   Потренироваться в работе с форматом `pickle`.\n",
    "2.   Потренироваться в работе моделей, загруженных из `pickle`.\n",
    "\n"
   ]
  },
  {
   "cell_type": "markdown",
   "metadata": {
    "id": "UjT-ToIuOmCu"
   },
   "source": [
    "## Обязательные задачи"
   ]
  },
  {
   "cell_type": "markdown",
   "metadata": {
    "id": "pYSG3t9ZTfws"
   },
   "source": [
    "**Задача 1. Функции dump, dumps**\n",
    "\n",
    "1. Инициализируйте словарь, в котором будет храниться три пары: (`first`: `a`); (`second`: `1.25`); (`third`: `[1,2,3]`).\n",
    "2. Запишите сериализованное представление этой переменной в файл `test_pickle.pickle`.\n",
    "3. С помощью функции `pickle.dumps` выведите байтовое представление этого словаря на экран.\n",
    "\n",
    "Документация по использованию функции [pickle.dumps](https://docs.python.org/3/library/pickle.html#pickle.dumps)"
   ]
  },
  {
   "cell_type": "code",
   "execution_count": null,
   "metadata": {
    "id": "R3oK3UigVBW2"
   },
   "outputs": [],
   "source": [
    "# Ваш код здесь"
   ]
  },
  {
   "cell_type": "markdown",
   "metadata": {
    "id": "7l2QrlIZXfO0"
   },
   "source": [
    "**Задача 2. Загрузка обученной модели из pickle**\n",
    "\n",
    "Для выполнения этого задания скачайте из дополнительных материалов файл `gensim.pickle`.\n",
    "Gensim — модуль обработки естественного языка. С его помощью можно обрабатывать тексты, создавать тематические модели текстов. В файлe `gensim.pickle` находится обученная для английского языка модель, которая умеет находить близкие по контексту/смыслу слова.\n",
    "\n",
    "1. Загрузите обученную модель из pickle файла в переменную `model`.\n",
    "2. Выведите её тип.\n",
    "3. Найдите ближайшие слова с помощью метода модели `model.most_similar()`. В качестве входного аргумента в метод передайте слово, для которого нужно найти ближайшие по контексту/смыслу слова. Например, для слова sun ближайшими будут sky, moon и тд.\n",
    "\n",
    "**Предупреждение**:\n",
    "\n",
    "Во время загрузки модели у вас могут появляться ошибки, которые сигнализируют, что для работы обученной модели не хватает каких-то пакетов. Чтобы модель заработала, установите эти пакеты с помощью pip.\n",
    "\n",
    "В случае с библиотекой gensim рекомендуется установка без указания версии: `pip install gensim`."
   ]
  },
  {
   "cell_type": "code",
   "execution_count": 3,
   "metadata": {
    "id": "kTxMQKrMzAvU"
   },
   "outputs": [
    {
     "name": "stdout",
     "output_type": "stream",
     "text": [
      "Requirement already satisfied: gensim in c:\\programdata\\anaconda3\\lib\\site-packages (4.3.0)Note: you may need to restart the kernel to use updated packages.\n",
      "\n",
      "Requirement already satisfied: numpy>=1.18.5 in c:\\users\\5800x-2\\appdata\\roaming\\python\\python311\\site-packages (from gensim) (1.24.4)\n",
      "Requirement already satisfied: scipy>=1.7.0 in c:\\programdata\\anaconda3\\lib\\site-packages (from gensim) (1.10.1)\n",
      "Requirement already satisfied: smart-open>=1.8.1 in c:\\programdata\\anaconda3\\lib\\site-packages (from gensim) (5.2.1)\n",
      "Collecting FuzzyTM>=0.4.0 (from gensim)\n",
      "  Obtaining dependency information for FuzzyTM>=0.4.0 from https://files.pythonhosted.org/packages/2d/30/074bac7a25866a2807c1005c7852c0139ac22ba837871fc01f16df29b9dc/FuzzyTM-2.0.9-py3-none-any.whl.metadata\n",
      "  Using cached FuzzyTM-2.0.9-py3-none-any.whl.metadata (7.9 kB)\n",
      "Requirement already satisfied: pandas in c:\\programdata\\anaconda3\\lib\\site-packages (from FuzzyTM>=0.4.0->gensim) (1.5.3)\n",
      "Collecting pyfume (from FuzzyTM>=0.4.0->gensim)\n",
      "  Obtaining dependency information for pyfume from https://files.pythonhosted.org/packages/ed/ea/a3b120e251145dcdb10777f2bc5f18b1496fd999d705a178c1b0ad947ce1/pyFUME-0.3.4-py3-none-any.whl.metadata\n",
      "  Using cached pyFUME-0.3.4-py3-none-any.whl.metadata (9.7 kB)\n",
      "Requirement already satisfied: python-dateutil>=2.8.1 in c:\\programdata\\anaconda3\\lib\\site-packages (from pandas->FuzzyTM>=0.4.0->gensim) (2.8.2)\n",
      "Requirement already satisfied: pytz>=2020.1 in c:\\programdata\\anaconda3\\lib\\site-packages (from pandas->FuzzyTM>=0.4.0->gensim) (2022.7)\n",
      "Requirement already satisfied: simpful==2.12.0 in c:\\programdata\\anaconda3\\lib\\site-packages (from pyfume->FuzzyTM>=0.4.0->gensim) (2.12.0)\n",
      "Collecting fst-pso==1.8.1 (from pyfume->FuzzyTM>=0.4.0->gensim)\n",
      "  Using cached fst_pso-1.8.1-py3-none-any.whl\n",
      "Collecting miniful (from fst-pso==1.8.1->pyfume->FuzzyTM>=0.4.0->gensim)\n",
      "  Using cached miniful-0.0.6-py3-none-any.whl\n",
      "Requirement already satisfied: six>=1.5 in c:\\programdata\\anaconda3\\lib\\site-packages (from python-dateutil>=2.8.1->pandas->FuzzyTM>=0.4.0->gensim) (1.16.0)\n",
      "Using cached FuzzyTM-2.0.9-py3-none-any.whl (31 kB)\n",
      "Using cached pyFUME-0.3.4-py3-none-any.whl (60 kB)\n",
      "Installing collected packages: miniful, fst-pso, pyfume, FuzzyTM\n",
      "Successfully installed FuzzyTM-2.0.9 fst-pso-1.8.1 miniful-0.0.6 pyfume-0.3.4\n"
     ]
    }
   ],
   "source": [
    "pip install --user gensim"
   ]
  },
  {
   "cell_type": "code",
   "execution_count": 34,
   "metadata": {
    "id": "OkxY0ibzyLb_"
   },
   "outputs": [],
   "source": [
    "import pickle\n",
    "from gensim.models import KeyedVectors\n",
    "from gensim.models import Word2Vec\n",
    "from gensim.test.utils import common_texts\n",
    "from gensim.models import Word2Vec\n",
    "model = Word2Vec(sentences=common_texts, vector_size=100, window=5, min_count=1, workers=4)\n",
    "model.save(\"word2vec.model\")"
   ]
  },
  {
   "cell_type": "code",
   "execution_count": null,
   "metadata": {
    "id": "eOaxJAydN92k"
   },
   "outputs": [],
   "source": [
    "# Решение Задача 1\n",
    "\n",
    "\n",
    "dict_var = {\"first\": \"a\", \"second\": 2, \"third\": [1, 2, 3]}"
   ]
  },
  {
   "cell_type": "code",
   "execution_count": null,
   "metadata": {
    "id": "R0tCklfRVgCD"
   },
   "outputs": [],
   "source": [
    "filename = \"test_pickle.pickle\"\n",
    "\n",
    "with open(filename, 'wb') as file:\n",
    "    pickle.dump(dict_var, file)"
   ]
  },
  {
   "cell_type": "code",
   "execution_count": null,
   "metadata": {
    "colab": {
     "base_uri": "https://localhost:8080/"
    },
    "id": "MOtDjAoaWQd1",
    "outputId": "78652bc7-d980-4343-88bc-b74330e74c06"
   },
   "outputs": [
    {
     "name": "stdout",
     "output_type": "stream",
     "text": [
      "{'first': 'a', 'second': 2, 'third': [1, 2, 3]}\n"
     ]
    }
   ],
   "source": [
    "with open(filename, 'rb') as file:\n",
    "    print(pickle.load(file))"
   ]
  },
  {
   "cell_type": "code",
   "execution_count": null,
   "metadata": {
    "colab": {
     "base_uri": "https://localhost:8080/"
    },
    "id": "Lc7jmHEGTDYM",
    "outputId": "c105f368-62e7-4061-c939-173d3745209f"
   },
   "outputs": [
    {
     "name": "stdout",
     "output_type": "stream",
     "text": [
      "b'\\x80\\x03}q\\x00(X\\x05\\x00\\x00\\x00firstq\\x01X\\x01\\x00\\x00\\x00aq\\x02X\\x06\\x00\\x00\\x00secondq\\x03K\\x02X\\x05\\x00\\x00\\x00thirdq\\x04]q\\x05(K\\x01K\\x02K\\x03eu.'\n"
     ]
    }
   ],
   "source": [
    "print(pickle.dumps(dict_var))"
   ]
  },
  {
   "cell_type": "code",
   "execution_count": 6,
   "metadata": {
    "id": "4Uce0H2TfIrC"
   },
   "outputs": [
    {
     "data": {
      "text/plain": [
       "'C:\\\\Users\\\\5800x-2\\\\Downloads'"
      ]
     },
     "execution_count": 6,
     "metadata": {},
     "output_type": "execute_result"
    }
   ],
   "source": [
    "pwd"
   ]
  },
  {
   "cell_type": "code",
   "execution_count": 4,
   "metadata": {
    "id": "KKV-VOw4xHEj"
   },
   "outputs": [],
   "source": [
    "# Решение Задача 2\n",
    "with open('gensim.pickle', 'rb') as file:\n",
    "    gensim_model = pickle.load(file)"
   ]
  },
  {
   "cell_type": "code",
   "execution_count": 5,
   "metadata": {
    "colab": {
     "base_uri": "https://localhost:8080/"
    },
    "id": "0qnDETu0xOQO",
    "outputId": "dee08f1c-791d-4c88-ee46-5b808e26c136"
   },
   "outputs": [
    {
     "data": {
      "text/plain": [
       "<gensim.models.keyedvectors.KeyedVectors at 0x1df4472fd90>"
      ]
     },
     "execution_count": 5,
     "metadata": {},
     "output_type": "execute_result"
    }
   ],
   "source": [
    "gensim_model"
   ]
  },
  {
   "cell_type": "code",
   "execution_count": 40,
   "metadata": {
    "colab": {
     "base_uri": "https://localhost:8080/"
    },
    "id": "HSnzvHcwyHoT",
    "outputId": "eb9b9ba4-4b89-4f55-bb6d-ebcf0868486e"
   },
   "outputs": [],
   "source": [
    "#verctor = gensim_model.key_to_index[\"sun\"]\n",
    "#gensim_model.get_vector(\"sun\", norm=True)\n",
    "#gensim_model.fill_norms()\n",
    "#gensim_model.wv.get_vector('sun', norm=True)\n",
    "#gensim_model.most_similar('sun')\n",
    "\n",
    "vector = model.wv['computer']  # get numpy vector of a word\n",
    "sims = model.wv.most_similar('computer', topn=10)  # get other similar words\n",
    "#gensim_model.wv.most_similar('sun')"
   ]
  },
  {
   "cell_type": "code",
   "execution_count": 44,
   "metadata": {},
   "outputs": [
    {
     "data": {
      "text/plain": [
       "[('system', 0.21617139875888824),\n",
       " ('survey', 0.04468922317028046),\n",
       " ('interface', 0.015203381888568401),\n",
       " ('time', 0.0019510635174810886),\n",
       " ('trees', -0.03284316882491112),\n",
       " ('human', -0.07424270361661911),\n",
       " ('response', -0.09317591041326523),\n",
       " ('graph', -0.09575342386960983),\n",
       " ('eps', -0.10513808578252792),\n",
       " ('user', -0.16911619901657104)]"
      ]
     },
     "execution_count": 44,
     "metadata": {},
     "output_type": "execute_result"
    }
   ],
   "source": [
    "sims"
   ]
  }
 ],
 "metadata": {
  "colab": {
   "provenance": []
  },
  "kernelspec": {
   "display_name": "Python 3 (ipykernel)",
   "language": "python",
   "name": "python3"
  },
  "language_info": {
   "codemirror_mode": {
    "name": "ipython",
    "version": 3
   },
   "file_extension": ".py",
   "mimetype": "text/x-python",
   "name": "python",
   "nbconvert_exporter": "python",
   "pygments_lexer": "ipython3",
   "version": "3.11.4"
  }
 },
 "nbformat": 4,
 "nbformat_minor": 4
}
